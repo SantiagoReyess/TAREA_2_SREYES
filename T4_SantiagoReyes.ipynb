{
 "cells": [
  {
   "cell_type": "markdown",
   "id": "3bd3505c",
   "metadata": {},
   "source": [
    "<img style=\"float: left; margin: 30px 15px 15px 15px;\" src=\"https://encrypted-tbn0.gstatic.com/images?q=tbn:ANd9GcTFzQj91sOlkeDFkg5HDbjtR4QJYmLXkfMNig&usqp=CAU\" width=\"400\" height=\"500\" /> \n",
    "    \n",
    "    \n",
    "### <font color='navy'> Simulación matemática. \n",
    "\n",
    "**Nombres:** Santiago Reyes.\n",
    "\n",
    "**Fecha:** 27 de septiembre, 2023\n",
    "\n",
    "**Expediente** : 745826.\n",
    "    \n",
    "**Profesor:** Oscar David Jaramillo Zuluaga.\n",
    "    \n",
    "\n",
    "# Tarea: 4  "
   ]
  },
  {
   "cell_type": "markdown",
   "id": "eddb284d",
   "metadata": {},
   "source": [
    "## Enunciado de tarea (Transcibirlo)"
   ]
  },
  {
   "cell_type": "markdown",
   "id": "a1807cf9",
   "metadata": {},
   "source": [
    "# Tarea 4 - Compilación de problemas Módulo 1 - Optimización. \n",
    "Lea cuidadosamente las siguientes **indicaciones** antes de comenzar la tarea:\n",
    "- Para resolver la tarea edite este mismo archivo y renómbrelo de la siguiente manera: *E1_ApellidoNombre*, donde *ApellidoNombre* corresponde a su apellido paterno con la inicial en mayúscula, seguido de su primer nombre con la inicial en mayúscula **sin acentos**. Por ejemplo, en mi caso el nombre del archivo sería *E1_JaramilloZuluaga*.\n",
    "- Resuelva los puntos en el espacio provisto. Si requiere agregar más celdas para código o escritura, hágalo.\n",
    "- Recuerde que también se está evaluando su capacidad de interpretar los resultados. Escriba sus interpretaciones/conclusiones en celdas utilizando *Markdown*.\n",
    "- El formato de presentación de todo el examen en general debe ser adecuado. Use tamaños de letra, colores, etiquetas, etcétera."
   ]
  },
  {
   "cell_type": "markdown",
   "id": "ff29a4dd",
   "metadata": {},
   "source": [
    "## Primer punto. Optimización de funciones escalares usando `sympy` (30 puntos).\n",
    "\n",
    "**Enunciado.** \n",
    "\n",
    "El telescopio espacial Hubble fue puesto en operación el 24 de abril de 1990 por el trasbordador espacial Discovery. Un modelo para la velocidad del trasbordador durante su misión desde el lanzamiento en $t=0$ hasta que los cohetes auxiliares de combustible sólido se desprenden en el instante $t=126$ , está dado por \n",
    "\n",
    "$$v(t) =  0.001302t^3 - 0.09029t^2+23.61t - 3.083$$\n",
    "\n",
    "(en pies por segundo). Usando este modelo, estime los valores máximo y mínimo absolutos de la aceleración del trasbordador entre el lanzamiento y el desprendimiento de los cohetes auxiliares de combustible sólido. **NOTA: Recuerde que la fórmula de la aceleración es:**\n",
    "\n",
    "$$a=\\frac{dv}{dt}$$"
   ]
  },
  {
   "cell_type": "markdown",
   "id": "b35f3fdb",
   "metadata": {},
   "source": [
    "**Punto 1 (15 puntos).** Usando `sympy` encontrar la expresión para la aceleración y los puntos críticos de la misma."
   ]
  },
  {
   "cell_type": "markdown",
   "id": "0e709878",
   "metadata": {},
   "source": [
    "**Solución punto 1.**"
   ]
  },
  {
   "cell_type": "code",
   "execution_count": 1,
   "id": "80981184",
   "metadata": {},
   "outputs": [
    {
     "data": {
      "text/latex": [
       "$\\displaystyle 0.003906 t^{2} - 0.18058 t + 23.61$"
      ],
      "text/plain": [
       "0.003906*t**2 - 0.18058*t + 23.61"
      ]
     },
     "execution_count": 1,
     "metadata": {},
     "output_type": "execute_result"
    }
   ],
   "source": [
    "import sympy as sp\n",
    "import numpy as np\n",
    "import matplotlib.pyplot as plt\n",
    "t = sp.symbols('t')\n",
    "v = 0.001302*t**3 - 0.09029*t**2 + 23.61*t - 3.083\n",
    "accel = sp.diff(v,t)\n",
    "#Expresión de la aceleración\n",
    "accel"
   ]
  },
  {
   "cell_type": "code",
   "execution_count": 2,
   "id": "28e55636",
   "metadata": {},
   "outputs": [
    {
     "data": {
      "text/plain": [
       "[23.115719406042 - 74.2307912347673*I, 23.115719406042 + 74.2307912347673*I]"
      ]
     },
     "execution_count": 2,
     "metadata": {},
     "output_type": "execute_result"
    }
   ],
   "source": [
    "p_crit = sp.solve(accel, t)\n",
    "p_crit"
   ]
  },
  {
   "cell_type": "code",
   "execution_count": 3,
   "id": "2e02cd34",
   "metadata": {},
   "outputs": [
    {
     "data": {
      "text/plain": [
       "(23.1157194060420, 23.1157194060420)"
      ]
     },
     "execution_count": 3,
     "metadata": {},
     "output_type": "execute_result"
    }
   ],
   "source": [
    "p1 = sp.re(p_crit[0])\n",
    "p2 = sp.re(p_crit[1])\n",
    "#PUNTOS CRÍTICOS\n",
    "p1, p2"
   ]
  },
  {
   "cell_type": "markdown",
   "id": "2dbb9e30",
   "metadata": {},
   "source": [
    "**Punto 2 (5 puntos).** Evaluar los puntos críticos y extremos del intervalo y concluir cuáles son la acelaración máxima y mínima, respectivamente y en qué instante de tiempo se presentan."
   ]
  },
  {
   "cell_type": "markdown",
   "id": "5ff8abba",
   "metadata": {},
   "source": [
    "**Solución punto 2**"
   ]
  },
  {
   "cell_type": "code",
   "execution_count": 4,
   "id": "6f333260",
   "metadata": {},
   "outputs": [
    {
     "data": {
      "text/latex": [
       "$\\displaystyle 0.007812 t - 0.18058$"
      ],
      "text/plain": [
       "0.007812*t - 0.18058"
      ]
     },
     "execution_count": 4,
     "metadata": {},
     "output_type": "execute_result"
    }
   ],
   "source": [
    "seg_der = sp.diff(accel,t)\n",
    "seg_der"
   ]
  },
  {
   "cell_type": "code",
   "execution_count": 5,
   "id": "5a4091c7",
   "metadata": {},
   "outputs": [
    {
     "data": {
      "text/latex": [
       "$\\displaystyle 0$"
      ],
      "text/plain": [
       "0"
      ]
     },
     "execution_count": 5,
     "metadata": {},
     "output_type": "execute_result"
    }
   ],
   "source": [
    "res = seg_der.subs(t,p1)\n",
    "res"
   ]
  },
  {
   "cell_type": "markdown",
   "id": "d1cc6028",
   "metadata": {},
   "source": [
    "Como el punto crítico evaluado en la segunda derivada es igual a 0, no podemos concluir si es un máximo o un mínimo."
   ]
  },
  {
   "cell_type": "markdown",
   "id": "eeca2f8e",
   "metadata": {},
   "source": [
    "Sin embargo podemos inferir que al ser la aceleración una función de segundo grado (parábola) que abre hacia arriba (el coeficiente de t^2)\n",
    "es positivo), sabemos que el punto crítico será un mínimo"
   ]
  },
  {
   "cell_type": "code",
   "execution_count": 6,
   "id": "8aef9a1b",
   "metadata": {},
   "outputs": [
    {
     "name": "stdout",
     "output_type": "stream",
     "text": [
      "Acelereación mínima =  21.5228816948285 dada en t = 23.1157194060420\n"
     ]
    }
   ],
   "source": [
    "#Evaluar el mínimo en la acelaración para conocer la aceleración mínima\n",
    "minim = accel.subs(t,p1)\n",
    "print(\"Acelereación mínima = \", minim, \"dada en t =\", p1)"
   ]
  },
  {
   "cell_type": "code",
   "execution_count": 7,
   "id": "5393c1ae",
   "metadata": {},
   "outputs": [
    {
     "name": "stdout",
     "output_type": "stream",
     "text": [
      "Acelereación máxima =  62.8685760000000 dada en t = 126\n"
     ]
    }
   ],
   "source": [
    "#Evaluar los extremos en la acelaración para conocer la aceleración máxima\n",
    "extremo1 = 0\n",
    "extremo2 = 126\n",
    "max1 = accel.subs(t,extremo1)\n",
    "max2 = accel.subs(t,extremo2)\n",
    "if max1 > max2:\n",
    "    maximum = max1\n",
    "    extremo = extremo1\n",
    "else:\n",
    "    maximum = max2\n",
    "    extremo = extremo2\n",
    "print(\"Acelereación máxima = \", maximum, \"dada en t =\", extremo)"
   ]
  },
  {
   "cell_type": "markdown",
   "id": "7bcadb64",
   "metadata": {},
   "source": [
    "**Punto 3 (10 puntos).** Graficar la aceleración respecto al tiempo junto con los puntos máximos y mínimos encontrados en el punto anterior."
   ]
  },
  {
   "cell_type": "markdown",
   "id": "0d3823ec",
   "metadata": {},
   "source": [
    "**Solución punto 3.**"
   ]
  },
  {
   "cell_type": "code",
   "execution_count": 84,
   "id": "26b3cfe9",
   "metadata": {},
   "outputs": [
    {
     "data": {
      "image/png": "[encoded data removed]",
      "text/plain": [
       "<Figure size 1000x600 with 1 Axes>"
      ]
     },
     "metadata": {},
     "output_type": "display_data"
    }
   ],
   "source": [
    "t_values = np.linspace(0, 126, 1000)\n",
    "\n",
    "acceleration_values = [accel.subs(t, value) for value in t_values]\n",
    "\n",
    "plt.figure(figsize=(10, 6))\n",
    "plt.plot(t_values, acceleration_values, label='Aceleración')\n",
    "\n",
    "plt.scatter([p1, p2, extremo], [accel.subs(t, p1), accel.subs(t, p2), maximum], color='red', label='Puntos Críticos y Extremos')\n",
    "plt.text(p1, accel.subs(t, p1), f'Mínimo: t={p1:.2f}, Aceleración={accel.subs(t, p1):.2f}', fontsize=12, ha='left')\n",
    "plt.text(extremo, maximum, f'Máximo: t={extremo:.2f}, Aceleración={maximum:.2f}', fontsize=12, ha='right')\n",
    "\n",
    "\n",
    "plt.xlabel('Tiempo (t)')\n",
    "plt.ylabel('Aceleración')\n",
    "plt.title('Gráfica de la Aceleración con Puntos Críticos y Extremos')\n",
    "plt.legend()\n",
    "plt.grid(True)\n",
    "\n",
    "plt.show()"
   ]
  },
  {
   "cell_type": "markdown",
   "id": "806aa6f6",
   "metadata": {},
   "source": [
    "# Conclusión\n",
    "\n",
    "Luego de encontrar los máximos y minimos de la aceleración, podemos ver con la mínima aceleración se da en t = 23.12, mientras que la máxima se da en el extremo derecho de la función, es decir en t = 126. Además, podemos ver que la regla de la segunda derivada de vez en cuando requiere otro tipo de enfoque para saber decir si un punto crítico es máximo o mínimo."
   ]
  },
  {
   "cell_type": "markdown",
   "id": "9cf892f7",
   "metadata": {},
   "source": [
    "## Segundo punto. Programación lineal (35 puntos)."
   ]
  },
  {
   "cell_type": "markdown",
   "id": "fe97aeaa",
   "metadata": {},
   "source": [
    "**Enunciado.** \n",
    "\n",
    "Como gerente de una asociación de empresas para el reciclaje en la región, ha sido asignado para tomar la decisión de a quien debe venderse unos desperdicios de metal que fueron recolectados. Dos empresas: Metales Ltda. y Hierros Unidos, están interesados en la compra de los desperdicios. La primera empresa, que paga la tonelada de metal a: $\\$500$ no esta interesada en comprar mas de $500$ $toneladas$., en cambio la segunda, que esta dispuesta a pagar $\\$400$ por tonelada de metal, ofrece comprar un límite máximo de $600$ $toneladas$. Sin embargo la financiación local ha limitado las compras formulando la siguiente condición: La cantidad de desperdicio vendida a la empresa Metales Ltda, NO puede superar el doble de la cantidad vendida a Hierros Unidos.\n",
    "\n",
    "Conociendo que la asociación de empresas dispone de 1.000 toneladas de desperdicios metálicos, formule un modelo de programación lineal que permita alcanzar la mejor decisión para el gerente para obtener la mayor ganancia."
   ]
  },
  {
   "cell_type": "markdown",
   "id": "93b1ff12",
   "metadata": {},
   "source": [
    "*Variables de decisión*: \n",
    "\n",
    "$x_1$ = Cantidad de toneladas de desperdicios a vender a Metales Ltda.\n",
    "\n",
    "$x_2$ = Cantidad de toneladas de desperdicios a vender a Hierros Unidos."
   ]
  },
  {
   "cell_type": "markdown",
   "id": "9de3e5be",
   "metadata": {},
   "source": [
    "**Punto 1 (20 puntos).** Escriba la función a minimizar junto con las restricciones, explicando detalladamente cada paso (usando fórmulas en LaTeX, en celdas Markdown). Además escriba el problema en la forma \n",
    "\\begin{equation}\n",
    "\\begin{array}{ll}\n",
    "\\min_{\\boldsymbol{x}} & \\boldsymbol{c}^T\\boldsymbol{x} \\\\\n",
    "\\text{s. a. }        & \\boldsymbol{A}_{eq}\\boldsymbol{x}=\\boldsymbol{b}_{eq} \\\\\n",
    "                     & \\boldsymbol{A}\\boldsymbol{x}\\leq\\boldsymbol{b},\n",
    "\\end{array}\n",
    "\\end{equation}\n",
    "\n",
    "proporcionando $\\boldsymbol{c}$, $\\boldsymbol{A}$ y $\\boldsymbol{b}$ ($\\boldsymbol{A}_{eq}$ y $\\boldsymbol{b}_{eq}$, de ser necesario) como arreglos de `NumPy` (no es necesario escribir en LaTeX el problema en la forma indicada, solo proporcionar las matrices como arreglos de `NumPy`)."
   ]
  },
  {
   "cell_type": "markdown",
   "id": "8144f070",
   "metadata": {},
   "source": [
    "**Solución punto 1.**"
   ]
  },
  {
   "cell_type": "markdown",
   "id": "1fda52f3",
   "metadata": {},
   "source": [
    "$\\text{Para plantear el funcional de costo elegimos dos \"x\", cada una con el coeficiente resepectivo a el precio de una de las empresa, es decir, 500 y 400.}$\n",
    "$\\text{Se indica que se busca maximizar, de igual manera.}$ \n"
   ]
  },
  {
   "attachments": {
    "image-2.png": {
     "image/png": "[encoded data removed]"
    }
   },
   "cell_type": "markdown",
   "id": "54daf676",
   "metadata": {},
   "source": [
    "![image-2.png](attachment:image-2.png)"
   ]
  },
  {
   "cell_type": "markdown",
   "id": "8d27ea89",
   "metadata": {},
   "source": [
    "$\\text{Posteriormente, tenemos una igualdad, ya que queremos que la suma de ambas cantidades sea igual a 1000}$\n",
    "$\\text{ya que de esta manera nos aseguramos que se vendan todas las toneladas disponibles de la empresa.}$"
   ]
  },
  {
   "attachments": {
    "image.png": {
     "image/png": "[encoded data removed]"
    }
   },
   "cell_type": "markdown",
   "id": "f291ec75",
   "metadata": {},
   "source": [
    "![image.png](attachment:image.png)"
   ]
  },
  {
   "cell_type": "markdown",
   "id": "b135cfe6",
   "metadata": {},
   "source": [
    "$\\text{Luego entran las desigualdades, en la que la primera \"x\" no puede superar 500 y la segunda \"600\".}$"
   ]
  },
  {
   "attachments": {
    "image.png": {
     "image/png": "[encoded data removed]"
    }
   },
   "cell_type": "markdown",
   "id": "26d0757c",
   "metadata": {},
   "source": [
    "![image.png](attachment:image.png)"
   ]
  },
  {
   "cell_type": "markdown",
   "id": "caf6a067",
   "metadata": {},
   "source": [
    "$\\text{Finalmente, la única desigualdad faltante es que la primera \"x\" no puede ser más del doble de la segunda \"x\"}$\n",
    "$\\text{que si se despeja en una desigualdad resulta así:}$"
   ]
  },
  {
   "attachments": {
    "image.png": {
     "image/png": "[encoded data removed]"
    }
   },
   "cell_type": "markdown",
   "id": "a7ddf6a5",
   "metadata": {},
   "source": [
    "![image.png](attachment:image.png)"
   ]
  },
  {
   "cell_type": "markdown",
   "id": "2be0db2c",
   "metadata": {},
   "source": [
    "$\\text{Fialmente, el problema queda planteado de la siguiente manera}$"
   ]
  },
  {
   "cell_type": "markdown",
   "id": "9ed58fe5",
   "metadata": {},
   "source": [
    "\\begin{equation}\n",
    "\\begin{array}{5}\n",
    "\\max_{\\boldsymbol{x}} & \\boldsymbol{c}^T\\boldsymbol{500x_1}+\\boldsymbol{400x_2} \\\\\n",
    "\\text{}        & \\boldsymbol{x}_{1}+\\boldsymbol{x_2}=\\boldsymbol{1000}\\\\\n",
    "                     & \\boldsymbol{x_1}\\leq\\boldsymbol{500} \\\\\n",
    "                     & \\boldsymbol{x_2}\\leq\\boldsymbol{600} \\\\\n",
    "                     & \\boldsymbol{x_1}\\boldsymbol{-2x_2}\\leq\\boldsymbol{0}\n",
    "\\end{array}\n",
    "\\end{equation}\n"
   ]
  },
  {
   "cell_type": "code",
   "execution_count": 9,
   "id": "8c844937",
   "metadata": {},
   "outputs": [],
   "source": [
    "import numpy as np\n",
    "import scipy.optimize as opt"
   ]
  },
  {
   "cell_type": "code",
   "execution_count": 10,
   "id": "606a0235",
   "metadata": {},
   "outputs": [],
   "source": [
    "#Definición de Matrices \n",
    "c = np.array([-500,-400])\n",
    "b = np.array([500,600,0])\n",
    "A = np.array([[1,0],\n",
    "            [0,1],\n",
    "            [1,-2]])\n",
    "beq = np.array([1000])\n",
    "Aeq = np.array([[1, 1]])\n",
    "bounds = [(0, None), (0, None)]"
   ]
  },
  {
   "cell_type": "markdown",
   "id": "51c4812f",
   "metadata": {},
   "source": [
    "**Punto 2 (15 puntos).** Resuelva el problema utilizando la función `linprog`. ¿Cuántos toneladas hay que vender a cada empresa?"
   ]
  },
  {
   "cell_type": "markdown",
   "id": "38b34020",
   "metadata": {},
   "source": [
    "**Solución punto 2.**"
   ]
  },
  {
   "cell_type": "code",
   "execution_count": 11,
   "id": "3ea7b3ed",
   "metadata": {},
   "outputs": [
    {
     "data": {
      "text/plain": [
       "        message: Optimization terminated successfully. (HiGHS Status 7: Optimal)\n",
       "        success: True\n",
       "         status: 0\n",
       "            fun: -450000.0\n",
       "              x: [ 5.000e+02  5.000e+02]\n",
       "            nit: 0\n",
       "          lower:  residual: [ 5.000e+02  5.000e+02]\n",
       "                 marginals: [ 0.000e+00  0.000e+00]\n",
       "          upper:  residual: [       inf        inf]\n",
       "                 marginals: [ 0.000e+00  0.000e+00]\n",
       "          eqlin:  residual: [ 0.000e+00]\n",
       "                 marginals: [-4.000e+02]\n",
       "        ineqlin:  residual: [ 0.000e+00  1.000e+02  5.000e+02]\n",
       "                 marginals: [-1.000e+02 -0.000e+00 -0.000e+00]\n",
       " mip_node_count: 0\n",
       " mip_dual_bound: 0.0\n",
       "        mip_gap: 0.0"
      ]
     },
     "execution_count": 11,
     "metadata": {},
     "output_type": "execute_result"
    }
   ],
   "source": [
    "result = opt.linprog(c, A_ub=A, b_ub=b, A_eq=Aeq, b_eq=beq, bounds=bounds)\n",
    "result"
   ]
  },
  {
   "cell_type": "markdown",
   "id": "34be7370",
   "metadata": {},
   "source": [
    "# Conclusión"
   ]
  },
  {
   "cell_type": "markdown",
   "id": "97aee6ba",
   "metadata": {},
   "source": [
    "La empresa debe de vender 500 toneladas a cada empresa, de esta manera no supera su disponibilidad, ni los límites de compre de cada una. Genera una ganancia de $450,000 vendiendo estas cantidades y se deshace de todos sus desperdicios."
   ]
  },
  {
   "cell_type": "markdown",
   "id": "ca6d8ec8",
   "metadata": {},
   "source": [
    "## Tercer punto. Ajuste de curvas (35 puntos).\n",
    "\n",
    "**Enunciado**. El archivo `population_urban.csv` contiene información histórica anual de México relativa a el % de población urbana.\n",
    "\n",
    "**Punto 1 (10 puntos).** Importar los datos en un DataFrame de pandas."
   ]
  },
  {
   "cell_type": "markdown",
   "id": "563f88df",
   "metadata": {},
   "source": [
    "**Solución punto 1.**"
   ]
  },
  {
   "cell_type": "code",
   "execution_count": 34,
   "id": "7d060395",
   "metadata": {},
   "outputs": [
    {
     "data": {
      "text/html": [
       "<div>\n",
       "<style scoped>\n",
       "    .dataframe tbody tr th:only-of-type {\n",
       "        vertical-align: middle;\n",
       "    }\n",
       "\n",
       "    .dataframe tbody tr th {\n",
       "        vertical-align: top;\n",
       "    }\n",
       "\n",
       "    .dataframe thead th {\n",
       "        text-align: right;\n",
       "    }\n",
       "</style>\n",
       "<table border=\"1\" class=\"dataframe\">\n",
       "  <thead>\n",
       "    <tr style=\"text-align: right;\">\n",
       "      <th></th>\n",
       "      <th>Year</th>\n",
       "      <th>Urban population (% of total)</th>\n",
       "    </tr>\n",
       "  </thead>\n",
       "  <tbody>\n",
       "    <tr>\n",
       "      <th>0</th>\n",
       "      <td>1960</td>\n",
       "      <td>50.753</td>\n",
       "    </tr>\n",
       "    <tr>\n",
       "      <th>1</th>\n",
       "      <td>1961</td>\n",
       "      <td>51.590</td>\n",
       "    </tr>\n",
       "    <tr>\n",
       "      <th>2</th>\n",
       "      <td>1962</td>\n",
       "      <td>52.428</td>\n",
       "    </tr>\n",
       "    <tr>\n",
       "      <th>3</th>\n",
       "      <td>1963</td>\n",
       "      <td>53.265</td>\n",
       "    </tr>\n",
       "    <tr>\n",
       "      <th>4</th>\n",
       "      <td>1964</td>\n",
       "      <td>54.100</td>\n",
       "    </tr>\n",
       "    <tr>\n",
       "      <th>5</th>\n",
       "      <td>1965</td>\n",
       "      <td>54.931</td>\n",
       "    </tr>\n",
       "    <tr>\n",
       "      <th>6</th>\n",
       "      <td>1966</td>\n",
       "      <td>55.761</td>\n",
       "    </tr>\n",
       "    <tr>\n",
       "      <th>7</th>\n",
       "      <td>1967</td>\n",
       "      <td>56.587</td>\n",
       "    </tr>\n",
       "    <tr>\n",
       "      <th>8</th>\n",
       "      <td>1968</td>\n",
       "      <td>57.411</td>\n",
       "    </tr>\n",
       "    <tr>\n",
       "      <th>9</th>\n",
       "      <td>1969</td>\n",
       "      <td>58.229</td>\n",
       "    </tr>\n",
       "    <tr>\n",
       "      <th>10</th>\n",
       "      <td>1970</td>\n",
       "      <td>59.021</td>\n",
       "    </tr>\n",
       "    <tr>\n",
       "      <th>11</th>\n",
       "      <td>1971</td>\n",
       "      <td>59.779</td>\n",
       "    </tr>\n",
       "    <tr>\n",
       "      <th>12</th>\n",
       "      <td>1972</td>\n",
       "      <td>60.532</td>\n",
       "    </tr>\n",
       "    <tr>\n",
       "      <th>13</th>\n",
       "      <td>1973</td>\n",
       "      <td>61.279</td>\n",
       "    </tr>\n",
       "    <tr>\n",
       "      <th>14</th>\n",
       "      <td>1974</td>\n",
       "      <td>62.022</td>\n",
       "    </tr>\n",
       "    <tr>\n",
       "      <th>15</th>\n",
       "      <td>1975</td>\n",
       "      <td>62.759</td>\n",
       "    </tr>\n",
       "    <tr>\n",
       "      <th>16</th>\n",
       "      <td>1976</td>\n",
       "      <td>63.491</td>\n",
       "    </tr>\n",
       "    <tr>\n",
       "      <th>17</th>\n",
       "      <td>1977</td>\n",
       "      <td>64.215</td>\n",
       "    </tr>\n",
       "    <tr>\n",
       "      <th>18</th>\n",
       "      <td>1978</td>\n",
       "      <td>64.934</td>\n",
       "    </tr>\n",
       "    <tr>\n",
       "      <th>19</th>\n",
       "      <td>1979</td>\n",
       "      <td>65.646</td>\n",
       "    </tr>\n",
       "    <tr>\n",
       "      <th>20</th>\n",
       "      <td>1980</td>\n",
       "      <td>66.339</td>\n",
       "    </tr>\n",
       "    <tr>\n",
       "      <th>21</th>\n",
       "      <td>1981</td>\n",
       "      <td>66.870</td>\n",
       "    </tr>\n",
       "    <tr>\n",
       "      <th>22</th>\n",
       "      <td>1982</td>\n",
       "      <td>67.396</td>\n",
       "    </tr>\n",
       "    <tr>\n",
       "      <th>23</th>\n",
       "      <td>1983</td>\n",
       "      <td>67.919</td>\n",
       "    </tr>\n",
       "    <tr>\n",
       "      <th>24</th>\n",
       "      <td>1984</td>\n",
       "      <td>68.437</td>\n",
       "    </tr>\n",
       "    <tr>\n",
       "      <th>25</th>\n",
       "      <td>1985</td>\n",
       "      <td>68.950</td>\n",
       "    </tr>\n",
       "    <tr>\n",
       "      <th>26</th>\n",
       "      <td>1986</td>\n",
       "      <td>69.459</td>\n",
       "    </tr>\n",
       "    <tr>\n",
       "      <th>27</th>\n",
       "      <td>1987</td>\n",
       "      <td>69.963</td>\n",
       "    </tr>\n",
       "    <tr>\n",
       "      <th>28</th>\n",
       "      <td>1988</td>\n",
       "      <td>70.462</td>\n",
       "    </tr>\n",
       "    <tr>\n",
       "      <th>29</th>\n",
       "      <td>1989</td>\n",
       "      <td>70.956</td>\n",
       "    </tr>\n",
       "    <tr>\n",
       "      <th>30</th>\n",
       "      <td>1990</td>\n",
       "      <td>71.419</td>\n",
       "    </tr>\n",
       "    <tr>\n",
       "      <th>31</th>\n",
       "      <td>1991</td>\n",
       "      <td>71.816</td>\n",
       "    </tr>\n",
       "    <tr>\n",
       "      <th>32</th>\n",
       "      <td>1992</td>\n",
       "      <td>72.209</td>\n",
       "    </tr>\n",
       "    <tr>\n",
       "      <th>33</th>\n",
       "      <td>1993</td>\n",
       "      <td>72.598</td>\n",
       "    </tr>\n",
       "    <tr>\n",
       "      <th>34</th>\n",
       "      <td>1994</td>\n",
       "      <td>72.985</td>\n",
       "    </tr>\n",
       "    <tr>\n",
       "      <th>35</th>\n",
       "      <td>1995</td>\n",
       "      <td>73.368</td>\n",
       "    </tr>\n",
       "    <tr>\n",
       "      <th>36</th>\n",
       "      <td>1996</td>\n",
       "      <td>73.670</td>\n",
       "    </tr>\n",
       "    <tr>\n",
       "      <th>37</th>\n",
       "      <td>1997</td>\n",
       "      <td>73.929</td>\n",
       "    </tr>\n",
       "    <tr>\n",
       "      <th>38</th>\n",
       "      <td>1998</td>\n",
       "      <td>74.186</td>\n",
       "    </tr>\n",
       "    <tr>\n",
       "      <th>39</th>\n",
       "      <td>1999</td>\n",
       "      <td>74.441</td>\n",
       "    </tr>\n",
       "    <tr>\n",
       "      <th>40</th>\n",
       "      <td>2000</td>\n",
       "      <td>74.722</td>\n",
       "    </tr>\n",
       "    <tr>\n",
       "      <th>41</th>\n",
       "      <td>2001</td>\n",
       "      <td>75.045</td>\n",
       "    </tr>\n",
       "    <tr>\n",
       "      <th>42</th>\n",
       "      <td>2002</td>\n",
       "      <td>75.365</td>\n",
       "    </tr>\n",
       "    <tr>\n",
       "      <th>43</th>\n",
       "      <td>2003</td>\n",
       "      <td>75.682</td>\n",
       "    </tr>\n",
       "    <tr>\n",
       "      <th>44</th>\n",
       "      <td>2004</td>\n",
       "      <td>75.997</td>\n",
       "    </tr>\n",
       "    <tr>\n",
       "      <th>45</th>\n",
       "      <td>2005</td>\n",
       "      <td>76.308</td>\n",
       "    </tr>\n",
       "    <tr>\n",
       "      <th>46</th>\n",
       "      <td>2006</td>\n",
       "      <td>76.616</td>\n",
       "    </tr>\n",
       "    <tr>\n",
       "      <th>47</th>\n",
       "      <td>2007</td>\n",
       "      <td>76.920</td>\n",
       "    </tr>\n",
       "    <tr>\n",
       "      <th>48</th>\n",
       "      <td>2008</td>\n",
       "      <td>77.222</td>\n",
       "    </tr>\n",
       "    <tr>\n",
       "      <th>49</th>\n",
       "      <td>2009</td>\n",
       "      <td>77.520</td>\n",
       "    </tr>\n",
       "    <tr>\n",
       "      <th>50</th>\n",
       "      <td>2010</td>\n",
       "      <td>77.815</td>\n",
       "    </tr>\n",
       "    <tr>\n",
       "      <th>51</th>\n",
       "      <td>2011</td>\n",
       "      <td>78.111</td>\n",
       "    </tr>\n",
       "    <tr>\n",
       "      <th>52</th>\n",
       "      <td>2012</td>\n",
       "      <td>78.405</td>\n",
       "    </tr>\n",
       "    <tr>\n",
       "      <th>53</th>\n",
       "      <td>2013</td>\n",
       "      <td>78.699</td>\n",
       "    </tr>\n",
       "    <tr>\n",
       "      <th>54</th>\n",
       "      <td>2014</td>\n",
       "      <td>78.993</td>\n",
       "    </tr>\n",
       "    <tr>\n",
       "      <th>55</th>\n",
       "      <td>2015</td>\n",
       "      <td>79.285</td>\n",
       "    </tr>\n",
       "    <tr>\n",
       "      <th>56</th>\n",
       "      <td>2016</td>\n",
       "      <td>79.577</td>\n",
       "    </tr>\n",
       "    <tr>\n",
       "      <th>57</th>\n",
       "      <td>2017</td>\n",
       "      <td>79.867</td>\n",
       "    </tr>\n",
       "    <tr>\n",
       "      <th>58</th>\n",
       "      <td>2018</td>\n",
       "      <td>80.156</td>\n",
       "    </tr>\n",
       "    <tr>\n",
       "      <th>59</th>\n",
       "      <td>2019</td>\n",
       "      <td>80.444</td>\n",
       "    </tr>\n",
       "  </tbody>\n",
       "</table>\n",
       "</div>"
      ],
      "text/plain": [
       "    Year  Urban population (% of total)\n",
       "0   1960                         50.753\n",
       "1   1961                         51.590\n",
       "2   1962                         52.428\n",
       "3   1963                         53.265\n",
       "4   1964                         54.100\n",
       "5   1965                         54.931\n",
       "6   1966                         55.761\n",
       "7   1967                         56.587\n",
       "8   1968                         57.411\n",
       "9   1969                         58.229\n",
       "10  1970                         59.021\n",
       "11  1971                         59.779\n",
       "12  1972                         60.532\n",
       "13  1973                         61.279\n",
       "14  1974                         62.022\n",
       "15  1975                         62.759\n",
       "16  1976                         63.491\n",
       "17  1977                         64.215\n",
       "18  1978                         64.934\n",
       "19  1979                         65.646\n",
       "20  1980                         66.339\n",
       "21  1981                         66.870\n",
       "22  1982                         67.396\n",
       "23  1983                         67.919\n",
       "24  1984                         68.437\n",
       "25  1985                         68.950\n",
       "26  1986                         69.459\n",
       "27  1987                         69.963\n",
       "28  1988                         70.462\n",
       "29  1989                         70.956\n",
       "30  1990                         71.419\n",
       "31  1991                         71.816\n",
       "32  1992                         72.209\n",
       "33  1993                         72.598\n",
       "34  1994                         72.985\n",
       "35  1995                         73.368\n",
       "36  1996                         73.670\n",
       "37  1997                         73.929\n",
       "38  1998                         74.186\n",
       "39  1999                         74.441\n",
       "40  2000                         74.722\n",
       "41  2001                         75.045\n",
       "42  2002                         75.365\n",
       "43  2003                         75.682\n",
       "44  2004                         75.997\n",
       "45  2005                         76.308\n",
       "46  2006                         76.616\n",
       "47  2007                         76.920\n",
       "48  2008                         77.222\n",
       "49  2009                         77.520\n",
       "50  2010                         77.815\n",
       "51  2011                         78.111\n",
       "52  2012                         78.405\n",
       "53  2013                         78.699\n",
       "54  2014                         78.993\n",
       "55  2015                         79.285\n",
       "56  2016                         79.577\n",
       "57  2017                         79.867\n",
       "58  2018                         80.156\n",
       "59  2019                         80.444"
      ]
     },
     "execution_count": 34,
     "metadata": {},
     "output_type": "execute_result"
    }
   ],
   "source": [
    "import pandas as pd\n",
    "pd.read_csv(\"population_urban.csv\")"
   ]
  },
  {
   "cell_type": "markdown",
   "id": "de810074",
   "metadata": {},
   "source": [
    "**Punto 2 (15 puntos).** Usando los años como variable independiente $x$ y la población como variable dependiente $y$, ajustar polinomios de grado 1 hasta grado 3.\n",
    "\n",
    "**En caso de ser necesario, aplique el escalado de características usando el método de normalización**\n",
    "\n",
    "Mostrar en un solo gráfico los datos de población contra los años, y los polinomios ajustados.\n",
    "\n",
    "Graficar el error cuadrático acumulado contra el número de términos. ¿Cuál es el polinomio que mejor se ajusta?"
   ]
  },
  {
   "cell_type": "markdown",
   "id": "29b578ac",
   "metadata": {},
   "source": [
    "**Solución punto 2.**"
   ]
  },
  {
   "cell_type": "code",
   "execution_count": 69,
   "id": "d8cbba47",
   "metadata": {},
   "outputs": [],
   "source": [
    "x = data[\"Year\"].values\n",
    "y = data[\"Urban population (% of total)\"].values\n",
    "\n",
    "#Preprocesamiento de los datos\n",
    "min_x1, min_y1 = min(x), min(y)\n",
    "max_x1, max_y1 = max(x), max(y)\n",
    "\n",
    "x_norm = (x - min_x1)/(max_x1 - min_x1)\n",
    "y_norm = (y - min_y1)/(max_y1 - min_y1)"
   ]
  },
  {
   "cell_type": "code",
   "execution_count": 36,
   "id": "87d56a68",
   "metadata": {},
   "outputs": [],
   "source": [
    "# Definir funcion objetivo (1)\n",
    "def obj1(beta, x, y):\n",
    "    yhat = beta[1]*x + beta[0]\n",
    "    error = y - yhat\n",
    "    return np.sum(error**2)\n",
    "\n",
    "beta_inicial = np.zeros(2)   #[0,0]\n",
    "# Resolver\n",
    "sol1 = opt.minimize(obj1, beta_inicial, args=(x_norm,y_norm))\n",
    "beta1 = sol1.x"
   ]
  },
  {
   "cell_type": "code",
   "execution_count": 37,
   "id": "6019d7dc",
   "metadata": {},
   "outputs": [],
   "source": [
    "# Definir funcion objetivo (2)\n",
    "def obj2(beta,x,y):\n",
    "    yhat = beta[2]*x**2 + beta[1]*x + beta[0]\n",
    "    error = y - yhat\n",
    "    return np.sum(error**2)\n",
    "\n",
    "beta_inicial = np.zeros(3)\n",
    "#Resolver\n",
    "sol2 = opt.minimize(obj2, beta_inicial,args=(x_norm,y_norm))\n",
    "beta2 = sol2.x"
   ]
  },
  {
   "cell_type": "code",
   "execution_count": 38,
   "id": "8863a4f2",
   "metadata": {},
   "outputs": [],
   "source": [
    "# Definir funcion objetivo (3)\n",
    "def obj_n(beta, x, y, n):\n",
    "    yhat = beta.dot([x**i for i in range(n)])\n",
    "    error = y-yhat\n",
    "    return np.sum(error**2)\n",
    "\n",
    "beta_inicial = np.zeros(4)\n",
    "#Resolver\n",
    "sol3 = opt.minimize(obj_n, beta_inicial, args=(x_norm,y_norm, 4))\n",
    "beta3 = sol3.x"
   ]
  },
  {
   "cell_type": "code",
   "execution_count": 85,
   "id": "c5e6fedd",
   "metadata": {},
   "outputs": [
    {
     "data": {
      "image/png": "[encoded data removed]",
      "text/plain": [
       "<Figure size 800x600 with 1 Axes>"
      ]
     },
     "metadata": {},
     "output_type": "display_data"
    }
   ],
   "source": [
    "#Yhats\n",
    "yhat1 = (beta1[1]*x_norm + beta1[0])*(max(y)-min(y)) + min(y)\n",
    "yhat2 = (beta2[2]*x_norm**2 + beta2[1]*x_norm + beta2[0])*(max(y)-min(y)) + min(y)   \n",
    "yhat3 = (beta3.dot([x_norm**i for i in range(4)]))*(max_y1 - min_y1) + min_y1\n",
    "\n",
    "# Graficar\n",
    "plt.figure(figsize=(8,6))\n",
    "\n",
    "#Agregar puntos y línea ajustada\n",
    "plt.plot(x,y,'*k',lw = 10, label='Datos a ajustar')\n",
    "plt.plot(x,yhat1,'b',lw=3,label='Recta ajustada')\n",
    "plt.plot(x,yhat2,'r',lw=3,label='Binomio ajustado')\n",
    "plt.plot(x,yhat3,'g',lw=3,label='Polinomio de grado 3 ajustado')\n",
    "\n",
    "plt.xlabel('$x$',fontsize=20)\n",
    "plt.ylabel('$y$',fontsize=20)\n",
    "\n",
    "plt.grid()\n",
    "plt.legend(loc='best')\n",
    "plt.show()"
   ]
  },
  {
   "cell_type": "code",
   "execution_count": 57,
   "id": "62646260",
   "metadata": {},
   "outputs": [
    {
     "data": {
      "image/png": "[encoded data removed]",
      "text/plain": [
       "<Figure size 800x700 with 1 Axes>"
      ]
     },
     "metadata": {},
     "output_type": "display_data"
    }
   ],
   "source": [
    "e = [sol1.fun, sol2.fun, sol3.fun]\n",
    "grados = [1, 2, 3 ]\n",
    "plt.figure(figsize=(8,7))\n",
    "plt.plot(grados, e, 'ob-', ms=10, label='errores')\n",
    "plt.legend()\n",
    "plt.xlabel('Grados del polinomio', fontsize=10)\n",
    "plt.ylabel('Errores', fontsize=10)\n",
    "plt.show()"
   ]
  },
  {
   "cell_type": "markdown",
   "id": "7c432441",
   "metadata": {},
   "source": [
    "**Punto 3 (10 puntos).** Con los polinomios ajustados en el punto anterior, estime la población en el año 2019  y compare con el dato real 80.444%.\n",
    "\n",
    "¿Cuál polinomio estima mejor este dato? ¿Es el polinomio que mejor se ajusta? Concluya."
   ]
  },
  {
   "cell_type": "markdown",
   "id": "4875afb0",
   "metadata": {},
   "source": [
    "**Solución punto 3.**"
   ]
  },
  {
   "cell_type": "markdown",
   "id": "8984accb",
   "metadata": {},
   "source": [
    "Usando la regla del codo, vemos como el error cuadrático se ve minimizado a partir del polinomio de 2do grado, por ello lo elegimos para hacer las previsiones futuras.\n",
    "\n",
    "\n",
    "Eligiendo el polinomio de grado 2:"
   ]
  },
  {
   "cell_type": "code",
   "execution_count": 89,
   "id": "f6397dc1",
   "metadata": {},
   "outputs": [],
   "source": [
    "x = data[\"Year\"].values\n",
    "y = data[\"Urban population (% of total)\"].values\n",
    "\n",
    "#Preprocesamiento de los datos\n",
    "min_x1, min_y1 = min(x), min(y)\n",
    "max_x1, max_y1 = max(x), max(y)\n",
    "\n",
    "x_norm = (x - min_x1)/(max_x1 - min_x1)\n",
    "y_norm = (y - min_y1)/(max_y1 - min_y1)"
   ]
  },
  {
   "cell_type": "code",
   "execution_count": 88,
   "id": "2804b819",
   "metadata": {},
   "outputs": [],
   "source": [
    "#Normalizamos el año 2019 al igual que los datos preprocesados\n",
    "year_2019 = 2019\n",
    "x_2019_norm = (year_2019 - min_x1) / (max_x1 - min_x1)"
   ]
  },
  {
   "cell_type": "code",
   "execution_count": 86,
   "id": "96efbf8b",
   "metadata": {
    "scrolled": true
   },
   "outputs": [
    {
     "name": "stdout",
     "output_type": "stream",
     "text": [
      "El porcentaje previsto para el año 2019 es: 79.49317280781463%\n"
     ]
    }
   ],
   "source": [
    "# Calcula el porcentaje previsto para el año 2019 sutituyendo en yhat2\n",
    "y_pred_2019 = (beta2[2] * x_2019_norm**2 + beta2[1] * x_2019_norm + beta2[0]) * (max(y) - min(y)) + min(y)\n",
    "\n",
    "print(f\"El porcentaje previsto para el año 2019 es: {y_pred_2019}%\")"
   ]
  },
  {
   "cell_type": "markdown",
   "id": "2c72feb2",
   "metadata": {},
   "source": [
    "# Conclusiones\n",
    "\n",
    "Luego de procesar los datos para calcular los distintos coeficientes de cada polinomio, podemos ver como el error cuadrático se minimiza a partir de la parábola, es decir del segundo grado. Con esto, podemos concluir que es una buena idea utilizar esta curva para estimar las previsiones a futuro. \n",
    "\n",
    "Para ello, normalizamos el valor del año 2019, lo introducimos en la función acorde a la curva de segundo grado para obtener el valor que puede tener el porcentaje en el futuro. \n",
    "\n",
    "Se podría elegir el polinomio de 3er grado, sin embargo los resultados no son tan drásticamente diferentes. "
   ]
  }
 ],
 "metadata": {
  "kernelspec": {
   "display_name": "Python 3 (ipykernel)",
   "language": "python",
   "name": "python3"
  },
  "language_info": {
   "codemirror_mode": {
    "name": "ipython",
    "version": 3
   },
   "file_extension": ".py",
   "mimetype": "text/x-python",
   "name": "python",
   "nbconvert_exporter": "python",
   "pygments_lexer": "ipython3",
   "version": "3.11.4"
  }
 },
 "nbformat": 4,
 "nbformat_minor": 5
}
